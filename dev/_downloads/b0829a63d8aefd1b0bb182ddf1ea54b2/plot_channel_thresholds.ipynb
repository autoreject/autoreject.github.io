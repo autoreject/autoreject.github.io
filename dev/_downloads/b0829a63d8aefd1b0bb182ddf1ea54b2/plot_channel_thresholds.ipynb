{
  "cells": [
    {
      "cell_type": "code",
      "execution_count": null,
      "metadata": {
        "collapsed": false
      },
      "outputs": [],
      "source": [
        "%matplotlib inline"
      ]
    },
    {
      "cell_type": "markdown",
      "metadata": {},
      "source": [
        "\n# Plot channel-level thresholds\n\nThis example demonstrates how to use :mod:`autoreject` to find\nchannel-wise thresholds.\n"
      ]
    },
    {
      "cell_type": "code",
      "execution_count": null,
      "metadata": {
        "collapsed": false
      },
      "outputs": [],
      "source": [
        "# Author: Mainak Jas <mainak.jas@telecom-paristech.fr>\n# License: BSD-3-Clause"
      ]
    },
    {
      "cell_type": "markdown",
      "metadata": {},
      "source": [
        "Let us first load the `raw` data using :func:`mne.io.read_raw_fif`.\n\n"
      ]
    },
    {
      "cell_type": "code",
      "execution_count": null,
      "metadata": {
        "collapsed": false
      },
      "outputs": [],
      "source": [
        "import mne\nfrom mne import io\nfrom mne.datasets import sample\n\ndata_path = sample.data_path()\nraw_fname = data_path + '/MEG/sample/sample_audvis_filt-0-40_raw.fif'\nraw = io.read_raw_fif(raw_fname, preload=True)"
      ]
    },
    {
      "cell_type": "markdown",
      "metadata": {},
      "source": [
        "We can extract the events (or triggers) for epoching our signal.\n\n"
      ]
    },
    {
      "cell_type": "code",
      "execution_count": null,
      "metadata": {
        "collapsed": false
      },
      "outputs": [],
      "source": [
        "event_fname = data_path + ('/MEG/sample/sample_audvis_filt-0-40_raw-'\n                           'eve.fif')\nevent_id = {'Auditory/Left': 1}\ntmin, tmax = -0.2, 0.5\nevents = mne.read_events(event_fname)"
      ]
    },
    {
      "cell_type": "markdown",
      "metadata": {},
      "source": [
        "Now that we have the events, we can extract the trials for the selection\nof channels defined by ``picks``.\n\n"
      ]
    },
    {
      "cell_type": "code",
      "execution_count": null,
      "metadata": {
        "collapsed": false
      },
      "outputs": [],
      "source": [
        "epochs = mne.Epochs(raw, events, event_id, tmin, tmax,\n                    baseline=(None, 0),\n                    reject=None, verbose=False, preload=True)\n\npicks = mne.pick_types(epochs.info, meg='grad', eeg=False, stim=False,\n                       eog=False, exclude='bads')"
      ]
    },
    {
      "cell_type": "markdown",
      "metadata": {},
      "source": [
        "Now, we compute the channel-level thresholds using\n:func:`autoreject.compute_thresholds`. The `method` parameter will determine\nhow we will search for thresholds over a range of potential candidates.\n\n"
      ]
    },
    {
      "cell_type": "code",
      "execution_count": null,
      "metadata": {
        "collapsed": false
      },
      "outputs": [],
      "source": [
        "import numpy as np  # noqa\nfrom autoreject import compute_thresholds  # noqa\n\n# Get a dictionary of rejection thresholds\nthreshes = compute_thresholds(epochs, picks=picks, method='random_search',\n                              random_state=42, augment=False,\n                              verbose=True)"
      ]
    },
    {
      "cell_type": "markdown",
      "metadata": {},
      "source": [
        "Finally, let us plot a histogram of the channel-level thresholds to verify\nthat the thresholds are indeed different for different sensors.\n\n"
      ]
    },
    {
      "cell_type": "code",
      "execution_count": null,
      "metadata": {
        "collapsed": false
      },
      "outputs": [],
      "source": [
        "import matplotlib.pyplot as plt  # noqa\nfrom autoreject import set_matplotlib_defaults  # noqa\nset_matplotlib_defaults(plt)\n\nunit = r'fT/cm'\nscaling = 1e13\n\nplt.figure(figsize=(6, 5))\nplt.tick_params(axis='x', which='both', bottom='off', top='off')\nplt.tick_params(axis='y', which='both', left='off', right='off')\n\nplt.hist(scaling * np.array(list(threshes.values())), 30,\n         color='g', alpha=0.4)\nplt.xlabel('Threshold (%s)' % unit)\nplt.ylabel('Number of sensors')\nplt.xlim((100, 950))\nplt.tight_layout()\nplt.show()"
      ]
    }
  ],
  "metadata": {
    "kernelspec": {
      "display_name": "Python 3",
      "language": "python",
      "name": "python3"
    },
    "language_info": {
      "codemirror_mode": {
        "name": "ipython",
        "version": 3
      },
      "file_extension": ".py",
      "mimetype": "text/x-python",
      "name": "python",
      "nbconvert_exporter": "python",
      "pygments_lexer": "ipython3",
      "version": "3.9.7"
    }
  },
  "nbformat": 4,
  "nbformat_minor": 0
}