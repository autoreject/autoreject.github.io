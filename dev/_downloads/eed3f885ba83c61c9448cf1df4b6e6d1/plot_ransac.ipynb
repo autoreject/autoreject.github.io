{
  "cells": [
    {
      "cell_type": "code",
      "execution_count": null,
      "metadata": {
        "collapsed": false
      },
      "outputs": [],
      "source": [
        "%matplotlib inline"
      ]
    },
    {
      "cell_type": "markdown",
      "metadata": {},
      "source": [
        "\n# Detect bad sensors using RANSAC\n\nThis example demonstrates how to use RANSAC [1]_ from the PREP pipeline to\ndetect bad sensors and repair them. Note that this implementation in\n:mod:`autoreject` [2]_ is an extension of the original implementation and\nworks for MEG sensors as well.\n\n## References\n.. [1] Bigdely-Shamlo, N., Mullen, T., Kothe, C., Su, K. M., & Robbins, K. A.\n       (2015). The PREP pipeline: standardized preprocessing for large-scale\n       EEG analysis. Frontiers in neuroinformatics, 9, 16.\n.. [2] Jas, M., Engemann, D. A., Bekhti, Y., Raimondo, F., & Gramfort, A.\n       (2017). Autoreject: Automated artifact rejection for MEG and EEG data.\n       NeuroImage, 159, 417-429.\n"
      ]
    },
    {
      "cell_type": "code",
      "execution_count": null,
      "metadata": {
        "collapsed": false
      },
      "outputs": [],
      "source": [
        "# Author: Mainak Jas <mainak.jas@telecom-paristech.fr>\n# License: BSD-3-Clause"
      ]
    },
    {
      "cell_type": "markdown",
      "metadata": {},
      "source": [
        "For the purposes of this example, we shall use the MNE sample dataset.\nTherefore, let us make some MNE related imports.\n\n"
      ]
    },
    {
      "cell_type": "code",
      "execution_count": null,
      "metadata": {
        "collapsed": false
      },
      "outputs": [],
      "source": [
        "import mne\nfrom mne import io\nfrom mne import Epochs\nfrom mne.datasets import sample"
      ]
    },
    {
      "cell_type": "markdown",
      "metadata": {},
      "source": [
        "Let us now read in the raw `fif` file for MNE sample dataset.\n\n"
      ]
    },
    {
      "cell_type": "code",
      "execution_count": null,
      "metadata": {
        "collapsed": false
      },
      "outputs": [],
      "source": [
        "data_path = sample.data_path()\nraw_fname = data_path + '/MEG/sample/sample_audvis_filt-0-40_raw.fif'\nraw = io.read_raw_fif(raw_fname, preload=True)"
      ]
    },
    {
      "cell_type": "markdown",
      "metadata": {},
      "source": [
        "We can then read in the events\n\n"
      ]
    },
    {
      "cell_type": "code",
      "execution_count": null,
      "metadata": {
        "collapsed": false
      },
      "outputs": [],
      "source": [
        "event_fname = data_path + ('/MEG/sample/sample_audvis_filt-0-40_raw-'\n                           'eve.fif')\nevent_id = {'Auditory/Left': 1}\ntmin, tmax = -0.2, 0.5\n\nevents = mne.read_events(event_fname)"
      ]
    },
    {
      "cell_type": "markdown",
      "metadata": {},
      "source": [
        "And pick MEG channels for repairing. Currently, :mod:`autoreject` can repair\nonly one channel type at a time.\n\n"
      ]
    },
    {
      "cell_type": "code",
      "execution_count": null,
      "metadata": {
        "collapsed": false
      },
      "outputs": [],
      "source": [
        "raw.info['bads'] = []"
      ]
    },
    {
      "cell_type": "markdown",
      "metadata": {},
      "source": [
        "Now, we can create epochs. The ``reject`` params will be set to ``None``\nbecause we do not want epochs to be dropped when instantiating\n:class:`mne.Epochs`.\n\n"
      ]
    },
    {
      "cell_type": "code",
      "execution_count": null,
      "metadata": {
        "collapsed": false
      },
      "outputs": [],
      "source": [
        "raw.del_proj()  # remove proj, don't proj while interpolating\nepochs = Epochs(raw, events, event_id, tmin, tmax,\n                baseline=(None, 0), reject=None,\n                verbose=False, detrend=0, preload=True)\npicks = mne.pick_types(epochs.info, meg='grad', eeg=False,\n                       stim=False, eog=False,\n                       include=[], exclude=[])"
      ]
    },
    {
      "cell_type": "markdown",
      "metadata": {},
      "source": [
        "We import ``Ransac`` and run the familiar ``fit_transform`` method.\n\n"
      ]
    },
    {
      "cell_type": "code",
      "execution_count": null,
      "metadata": {
        "collapsed": false
      },
      "outputs": [],
      "source": [
        "from autoreject import Ransac  # noqa\nfrom autoreject.utils import interpolate_bads  # noqa\n\nransac = Ransac(verbose=True, picks=picks, n_jobs=1)\nepochs_clean = ransac.fit_transform(epochs)"
      ]
    },
    {
      "cell_type": "markdown",
      "metadata": {},
      "source": [
        "We can also get the list of bad channels computed by ``Ransac``.\n\n"
      ]
    },
    {
      "cell_type": "code",
      "execution_count": null,
      "metadata": {
        "collapsed": false
      },
      "outputs": [],
      "source": [
        "print('\\n'.join(ransac.bad_chs_))"
      ]
    },
    {
      "cell_type": "markdown",
      "metadata": {},
      "source": [
        "Then we compute the ``evoked`` before and after interpolation.\n\n"
      ]
    },
    {
      "cell_type": "code",
      "execution_count": null,
      "metadata": {
        "collapsed": false
      },
      "outputs": [],
      "source": [
        "evoked = epochs.average()\nevoked_clean = epochs_clean.average()"
      ]
    },
    {
      "cell_type": "markdown",
      "metadata": {},
      "source": [
        "We will manually mark the bad channels just for plotting.\n\n"
      ]
    },
    {
      "cell_type": "code",
      "execution_count": null,
      "metadata": {
        "collapsed": false
      },
      "outputs": [],
      "source": [
        "evoked.info['bads'] = ['MEG 2443']\nevoked_clean.info['bads'] = ['MEG 2443']"
      ]
    },
    {
      "cell_type": "markdown",
      "metadata": {},
      "source": [
        "Let us plot the results.\n\n"
      ]
    },
    {
      "cell_type": "code",
      "execution_count": null,
      "metadata": {
        "collapsed": false
      },
      "outputs": [],
      "source": [
        "from autoreject.utils import set_matplotlib_defaults  # noqa\nimport matplotlib.pyplot as plt  # noqa\nset_matplotlib_defaults(plt)\n\nfig, axes = plt.subplots(2, 1, figsize=(6, 6))\n\nfor ax in axes:\n    ax.tick_params(axis='x', which='both', bottom='off', top='off')\n    ax.tick_params(axis='y', which='both', left='off', right='off')\n\nylim = dict(grad=(-170, 200))\nevoked.pick_types(meg='grad', exclude=[])\nevoked.plot(exclude=[], axes=axes[0], ylim=ylim, show=False)\naxes[0].set_title('Before RANSAC')\nevoked_clean.pick_types(meg='grad', exclude=[])\nevoked_clean.plot(exclude=[], axes=axes[1], ylim=ylim)\naxes[1].set_title('After RANSAC')\nfig.tight_layout()"
      ]
    },
    {
      "cell_type": "markdown",
      "metadata": {},
      "source": [
        "To top things up, we can also visualize the bad sensors for each trial using\na heatmap.\n\n"
      ]
    },
    {
      "cell_type": "code",
      "execution_count": null,
      "metadata": {
        "collapsed": false
      },
      "outputs": [],
      "source": [
        "ch_names = [epochs.ch_names[ii] for ii in ransac.picks][7::10]\nfig, ax = plt.subplots(1, 1, figsize=(12, 6))\nax.imshow(ransac.bad_log, cmap='Reds',\n          interpolation='nearest')\nax.grid(False)\nax.set_xlabel('Sensors')\nax.set_ylabel('Trials')\nplt.setp(ax, xticks=range(7, len(ransac.picks), 10),\n         xticklabels=ch_names)\nplt.setp(ax.get_yticklabels(), rotation=0)\nplt.setp(ax.get_xticklabels(), rotation=90)\nax.tick_params(axis=u'both', which=u'both', length=0)\nfig.tight_layout(rect=[None, None, None, 1.1])\nplt.show()"
      ]
    }
  ],
  "metadata": {
    "kernelspec": {
      "display_name": "Python 3",
      "language": "python",
      "name": "python3"
    },
    "language_info": {
      "codemirror_mode": {
        "name": "ipython",
        "version": 3
      },
      "file_extension": ".py",
      "mimetype": "text/x-python",
      "name": "python",
      "nbconvert_exporter": "python",
      "pygments_lexer": "ipython3",
      "version": "3.9.7"
    }
  },
  "nbformat": 4,
  "nbformat_minor": 0
}