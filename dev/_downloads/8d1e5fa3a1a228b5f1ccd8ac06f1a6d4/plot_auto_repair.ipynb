{
  "cells": [
    {
      "cell_type": "markdown",
      "metadata": {},
      "source": [
        "\n# Automatically repair epochs\n\nThis example demonstrates how to use :mod:`autoreject` to automatically\nrepair epochs.\n"
      ]
    },
    {
      "cell_type": "code",
      "execution_count": null,
      "metadata": {
        "collapsed": false
      },
      "outputs": [],
      "source": [
        "# Author: Mainak Jas <mainak.jas@telecom-paristech.fr>\n#         Denis A. Engemann <denis.engemann@gmail.com>\n# License: BSD-3-Clause"
      ]
    },
    {
      "cell_type": "markdown",
      "metadata": {},
      "source": [
        "Let us first define the parameters. `n_interpolates` are the $\\rho$\nvalues that we would like :mod:`autoreject` to try and `consensus_percs`\nare the $\\kappa$ values that :mod:`autoreject` will try (see the\n[autoreject paper](https://doi.org/10.1016/j.neuroimage.2017.06.030)) for\nmore information on these parameters).\n\nEpochs with more than $\\kappa * N$ sensors ($N$ total sensors)\nbad are dropped. For the rest of the epochs, the worst $\\rho$\nbad sensors (as determined by channel-level thresholds) are interpolated.\nThe exact values of these parameters are not preselected but learned from\nthe data. If the number of bad sensors for a particular trial is less than\n$\\rho$, all the bad sensors are interpolated.\n\n"
      ]
    },
    {
      "cell_type": "code",
      "execution_count": null,
      "metadata": {
        "collapsed": false
      },
      "outputs": [],
      "source": [
        "import numpy as np\n\nn_interpolates = np.array([1, 4, 32])\nconsensus_percs = np.linspace(0, 1.0, 11)"
      ]
    },
    {
      "cell_type": "markdown",
      "metadata": {},
      "source": [
        "For the purposes of this example, we shall use the MNE sample dataset.\nTherefore, let us make some MNE related imports.\n\n"
      ]
    },
    {
      "cell_type": "code",
      "execution_count": null,
      "metadata": {
        "collapsed": false
      },
      "outputs": [],
      "source": [
        "import mne  # noqa\nfrom mne.utils import check_random_state  # noqa\nfrom mne.datasets import sample  # noqa"
      ]
    },
    {
      "cell_type": "markdown",
      "metadata": {},
      "source": [
        "Now, we can import the class required for rejecting and repairing bad\nepochs. :func:`autoreject.compute_thresholds` is a callable which must be\nprovided to the :class:`autoreject.AutoReject` class for computing\nthe channel-level thresholds.\n\n"
      ]
    },
    {
      "cell_type": "code",
      "execution_count": null,
      "metadata": {
        "collapsed": false
      },
      "outputs": [],
      "source": [
        "from autoreject import (AutoReject, set_matplotlib_defaults)  # noqa"
      ]
    },
    {
      "cell_type": "markdown",
      "metadata": {},
      "source": [
        "Let us now read in the raw `fif` file for MNE sample dataset.\n\n"
      ]
    },
    {
      "cell_type": "code",
      "execution_count": null,
      "metadata": {
        "collapsed": false
      },
      "outputs": [],
      "source": [
        "check_random_state(42)\n\ndata_path = sample.data_path()\nmeg_path = data_path / 'MEG' / 'sample'\nraw_fname = meg_path / 'sample_audvis_filt-0-40_raw.fif'\nraw = mne.io.read_raw_fif(raw_fname, preload=True)"
      ]
    },
    {
      "cell_type": "markdown",
      "metadata": {},
      "source": [
        "We can then read in the events\n\n"
      ]
    },
    {
      "cell_type": "code",
      "execution_count": null,
      "metadata": {
        "collapsed": false
      },
      "outputs": [],
      "source": [
        "event_fname = meg_path / 'sample_audvis_filt-0-40_raw-eve.fif'\nevent_id = {'Auditory/Left': 1, 'Auditory/Right': 2}\ntmin, tmax = -0.2, 0.5\n\nevents = mne.read_events(event_fname)"
      ]
    },
    {
      "cell_type": "markdown",
      "metadata": {},
      "source": [
        "And pick MEG channels for repairing. Currently, :mod:`autoreject` can repair\nonly one channel type at a time.\n\n"
      ]
    },
    {
      "cell_type": "code",
      "execution_count": null,
      "metadata": {
        "collapsed": false
      },
      "outputs": [],
      "source": [
        "raw.info['bads'] = []\npicks = mne.pick_types(raw.info, meg='grad', eeg=False, stim=False, eog=False,\n                       include=[], exclude=[])"
      ]
    },
    {
      "cell_type": "markdown",
      "metadata": {},
      "source": [
        "Now, we can create epochs. The ``reject`` params will be set to ``None``\nbecause we do not want epochs to be dropped when instantiating\n:class:`mne.Epochs`.\n\n"
      ]
    },
    {
      "cell_type": "code",
      "execution_count": null,
      "metadata": {
        "collapsed": false
      },
      "outputs": [],
      "source": [
        "raw.del_proj()  # remove proj, don't proj while interpolating\nepochs = mne.Epochs(raw, events, event_id, tmin, tmax,\n                    baseline=(None, 0), reject=None,\n                    verbose=False, detrend=0, preload=True)"
      ]
    },
    {
      "cell_type": "markdown",
      "metadata": {},
      "source": [
        ":class:`autoreject.AutoReject` internally does cross-validation to\ndetermine the optimal values $\\rho^{*}$ and $\\kappa^{*}$\n\n"
      ]
    },
    {
      "cell_type": "markdown",
      "metadata": {},
      "source": [
        "Note that :class:`autoreject.AutoReject` by design supports\nmultiple channels.\nIf no picks are passed, separate solutions will be computed for each channel\ntype and internally combined. This then readily supports cleaning\nunseen epochs from the different channel types used during fit.\nHere we only use a subset of channels to save time.\n\n"
      ]
    },
    {
      "cell_type": "code",
      "execution_count": null,
      "metadata": {
        "collapsed": false
      },
      "outputs": [],
      "source": [
        "ar = AutoReject(n_interpolates, consensus_percs, picks=picks,\n                thresh_method='random_search', random_state=42)\n\n# Note that fitting and transforming can be done on different compatible\n# portions of data if needed.\nar.fit(epochs['Auditory/Left'])\nepochs_clean = ar.transform(epochs['Auditory/Left'])\nevoked_clean = epochs_clean.average()\nevoked = epochs['Auditory/Left'].average()"
      ]
    },
    {
      "cell_type": "markdown",
      "metadata": {},
      "source": [
        "Now, we will manually mark the bad channels just for plotting.\n\n"
      ]
    },
    {
      "cell_type": "code",
      "execution_count": null,
      "metadata": {
        "collapsed": false
      },
      "outputs": [],
      "source": [
        "evoked.info['bads'] = ['MEG 2443']\nevoked_clean.info['bads'] = ['MEG 2443']"
      ]
    },
    {
      "cell_type": "markdown",
      "metadata": {},
      "source": [
        "Let us plot the results.\n\n"
      ]
    },
    {
      "cell_type": "code",
      "execution_count": null,
      "metadata": {
        "collapsed": false
      },
      "outputs": [],
      "source": [
        "import matplotlib.pyplot as plt  # noqa\nset_matplotlib_defaults(plt)\n\nfig, axes = plt.subplots(2, 1, figsize=(6, 6))\n\nfor ax in axes:\n    ax.tick_params(axis='x', which='both', bottom='off', top='off')\n    ax.tick_params(axis='y', which='both', left='off', right='off')\n\nylim = dict(grad=(-170, 200))\nevoked.pick_types(meg='grad', exclude=[])\nevoked.plot(exclude=[], axes=axes[0], ylim=ylim, show=False)\naxes[0].set_title('Before autoreject')\nevoked_clean.pick_types(meg='grad', exclude=[])\nevoked_clean.plot(exclude=[], axes=axes[1], ylim=ylim)\naxes[1].set_title('After autoreject')\nplt.tight_layout()"
      ]
    },
    {
      "cell_type": "markdown",
      "metadata": {},
      "source": [
        "To top things up, we can also visualize the bad sensors for each trial using\na heatmap.\n\n"
      ]
    },
    {
      "cell_type": "code",
      "execution_count": null,
      "metadata": {
        "collapsed": false
      },
      "outputs": [],
      "source": [
        "ar.get_reject_log(epochs['Auditory/Left']).plot()"
      ]
    }
  ],
  "metadata": {
    "kernelspec": {
      "display_name": "Python 3",
      "language": "python",
      "name": "python3"
    },
    "language_info": {
      "codemirror_mode": {
        "name": "ipython",
        "version": 3
      },
      "file_extension": ".py",
      "mimetype": "text/x-python",
      "name": "python",
      "nbconvert_exporter": "python",
      "pygments_lexer": "ipython3",
      "version": "3.13.0"
    }
  },
  "nbformat": 4,
  "nbformat_minor": 0
}