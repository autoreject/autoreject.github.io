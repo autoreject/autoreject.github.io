{
  "nbformat_minor": 0, 
  "nbformat": 4, 
  "cells": [
    {
      "execution_count": null, 
      "cell_type": "code", 
      "source": [
        "%matplotlib inline"
      ], 
      "outputs": [], 
      "metadata": {
        "collapsed": false
      }
    }, 
    {
      "source": [
        "\n# Plot channel-level thresholds\n\n\nThis example demonstrates how to use :mod:`autoreject` to find\nchannel-wise thresholds.\n"
      ], 
      "cell_type": "markdown", 
      "metadata": {}
    }, 
    {
      "execution_count": null, 
      "cell_type": "code", 
      "source": [
        "# Author: Mainak Jas <mainak.jas@telecom-paristech.fr>\n# License: BSD (3-clause)"
      ], 
      "outputs": [], 
      "metadata": {
        "collapsed": false
      }
    }, 
    {
      "source": [
        "Let us first load the `raw` data using :func:`mne.io.read_raw_fif`.\n"
      ], 
      "cell_type": "markdown", 
      "metadata": {}
    }, 
    {
      "execution_count": null, 
      "cell_type": "code", 
      "source": [
        "import mne\nfrom mne import io\nfrom mne.datasets import sample\n\ndata_path = sample.data_path()\nraw_fname = data_path + '/MEG/sample/sample_audvis_filt-0-40_raw.fif'\nraw = io.read_raw_fif(raw_fname, preload=True)"
      ], 
      "outputs": [], 
      "metadata": {
        "collapsed": false
      }
    }, 
    {
      "source": [
        "We can extract the events (or triggers) for epoching our signal.\n"
      ], 
      "cell_type": "markdown", 
      "metadata": {}
    }, 
    {
      "execution_count": null, 
      "cell_type": "code", 
      "source": [
        "event_fname = data_path + ('/MEG/sample/sample_audvis_filt-0-40_raw-'\n                           'eve.fif')\nevent_id = {'Auditory/Left': 1}\ntmin, tmax = -0.2, 0.5\nevents = mne.read_events(event_fname)"
      ], 
      "outputs": [], 
      "metadata": {
        "collapsed": false
      }
    }, 
    {
      "source": [
        "Now that we have the events, we can extract the trials for the selection\nof channels defined by ``picks``.\n"
      ], 
      "cell_type": "markdown", 
      "metadata": {}
    }, 
    {
      "execution_count": null, 
      "cell_type": "code", 
      "source": [
        "include = []\npicks = mne.pick_types(raw.info, meg='grad', eeg=False, stim=False,\n                       eog=False, include=include, exclude='bads')\n\nepochs = mne.Epochs(raw, events, event_id, tmin, tmax,\n                    picks=picks, baseline=(None, 0),\n                    reject=None, verbose=False, preload=True)\n\nepochs.pick_types(meg='grad', eeg=False, stim=False, eog=False,\n                  include=include, exclude='bads')"
      ], 
      "outputs": [], 
      "metadata": {
        "collapsed": false
      }
    }, 
    {
      "source": [
        "Now, we can define a threshold range over which the threshold must be found\nand then compute the channel-level thresholds using\n:func:`autoreject.compute_thresholds`.\n"
      ], 
      "cell_type": "markdown", 
      "metadata": {}
    }, 
    {
      "execution_count": null, 
      "cell_type": "code", 
      "source": [
        "from autoreject import compute_thresholds\nimport numpy as np\n\nthreshes = compute_thresholds(epochs, method='random_search',\n                              random_state=42, verbose='tqdm')['meg']"
      ], 
      "outputs": [], 
      "metadata": {
        "collapsed": false
      }
    }, 
    {
      "source": [
        "Finally, let us plot a histogram of the channel-level thresholds to verify\nthat the thresholds are indeed different for different sensors.\n"
      ], 
      "cell_type": "markdown", 
      "metadata": {}
    }, 
    {
      "execution_count": null, 
      "cell_type": "code", 
      "source": [
        "import matplotlib.pyplot as plt\nfrom autoreject import set_matplotlib_defaults\nset_matplotlib_defaults(plt)\n\nunit = r'fT/cm'\nscaling = 1e13\n\nplt.figure(figsize=(6, 5))\nplt.tick_params(axis='x', which='both', bottom='off', top='off')\nplt.tick_params(axis='y', which='both', left='off', right='off')\n\nplt.hist(scaling * np.array(threshes), 30, color='g', alpha=0.4)\nplt.xlabel('Threshold (%s)' % unit)\nplt.ylabel('Number of sensors')\nplt.xlim((100, 950))\nplt.tight_layout()\nplt.show()"
      ], 
      "outputs": [], 
      "metadata": {
        "collapsed": false
      }
    }
  ], 
  "metadata": {
    "kernelspec": {
      "display_name": "Python 2", 
      "name": "python2", 
      "language": "python"
    }, 
    "language_info": {
      "mimetype": "text/x-python", 
      "nbconvert_exporter": "python", 
      "name": "python", 
      "file_extension": ".py", 
      "version": "2.7.12", 
      "pygments_lexer": "ipython2", 
      "codemirror_mode": {
        "version": 2, 
        "name": "ipython"
      }
    }
  }
}