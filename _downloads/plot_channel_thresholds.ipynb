{
  "nbformat_minor": 0, 
  "nbformat": 4, 
  "cells": [
    {
      "execution_count": null, 
      "cell_type": "code", 
      "source": [
        "%matplotlib inline"
      ], 
      "outputs": [], 
      "metadata": {
        "collapsed": false
      }
    }, 
    {
      "source": [
        "\n# Plot channel-level thresholds\n\n\nThis example demonstrates how to use ``autoreject`` to find\nchannel-wise thresholds.\n"
      ], 
      "cell_type": "markdown", 
      "metadata": {}
    }, 
    {
      "execution_count": null, 
      "cell_type": "code", 
      "source": [
        "# Author: Mainak Jas <mainak.jas@telecom-paristech.fr>\n# License: BSD (3-clause)"
      ], 
      "outputs": [], 
      "metadata": {
        "collapsed": false
      }
    }, 
    {
      "source": [
        "Let us first load the `raw` data using MNE-Python.\n"
      ], 
      "cell_type": "markdown", 
      "metadata": {}
    }, 
    {
      "execution_count": null, 
      "cell_type": "code", 
      "source": [
        "import mne\nfrom mne import io\nfrom mne.datasets import sample\n\ndata_path = sample.data_path()\nraw_fname = data_path + '/MEG/sample/sample_audvis_filt-0-40_raw.fif'\nraw = io.Raw(raw_fname, preload=True)"
      ], 
      "outputs": [], 
      "metadata": {
        "collapsed": false
      }
    }, 
    {
      "source": [
        "Let us apply the SSP projectors to remove ECG artifacts. This must be done\nto ensure that the channel-level thresholds are not sensitive to ECG\nartifacts.\n"
      ], 
      "cell_type": "markdown", 
      "metadata": {}
    }, 
    {
      "execution_count": null, 
      "cell_type": "code", 
      "source": [
        "projs, _ = mne.preprocessing.compute_proj_ecg(raw, n_eeg=1, average=True,\n                                              verbose=False)\nraw.add_proj(projs).apply_proj()"
      ], 
      "outputs": [], 
      "metadata": {
        "collapsed": false
      }
    }, 
    {
      "source": [
        "We can extract the events (or triggers) for epoching our signal.\n"
      ], 
      "cell_type": "markdown", 
      "metadata": {}
    }, 
    {
      "execution_count": null, 
      "cell_type": "code", 
      "source": [
        "event_fname = data_path + ('/MEG/sample/sample_audvis_filt-0-40_raw-'\n                           'eve.fif')\nevent_id = {'Auditory/Left': 1}\ntmin, tmax = -0.2, 0.5\nevents = mne.read_events(event_fname)"
      ], 
      "outputs": [], 
      "metadata": {
        "collapsed": false
      }
    }, 
    {
      "source": [
        "Now that we have the events, we can extract the trials for the selection\nof channels defined by ``picks``.\n"
      ], 
      "cell_type": "markdown", 
      "metadata": {}
    }, 
    {
      "execution_count": null, 
      "cell_type": "code", 
      "source": [
        "include = []\npicks = mne.pick_types(raw.info, meg='grad', eeg=False, stim=False,\n                       eog=False, include=include, exclude='bads')\n\nepochs = mne.Epochs(raw, events, event_id, tmin, tmax,\n                    picks=picks, baseline=(None, 0),\n                    reject=None, verbose=False, detrend=True,\n                    preload=True)\n\nepochs.pick_types(meg='grad', eeg=False, stim=False, eog=False,\n                  include=include, exclude='bads')"
      ], 
      "outputs": [], 
      "metadata": {
        "collapsed": false
      }
    }, 
    {
      "source": [
        "Now, we can define a threshold range over which the threshold must be found\nand then compute the channel-level thresholds using\n:func:`autoreject.compute_threshes`.\n"
      ], 
      "cell_type": "markdown", 
      "metadata": {}
    }, 
    {
      "execution_count": null, 
      "cell_type": "code", 
      "source": [
        "from autoreject import compute_threshes\nimport numpy as np\n\nthresh_range = dict(grad=(4e-13, 900e-13))\nthreshes = np.array(compute_threshes(epochs, thresh_range)['meg'])"
      ], 
      "outputs": [], 
      "metadata": {
        "collapsed": false
      }
    }, 
    {
      "source": [
        "Finally, let us plot a histogram of the channel-level thresholds to verify\nthat the thresholds are indeed different for different sensors.\n"
      ], 
      "cell_type": "markdown", 
      "metadata": {}
    }, 
    {
      "execution_count": null, 
      "cell_type": "code", 
      "source": [
        "import matplotlib.pyplot as plt\nfrom autoreject import set_matplotlib_defaults\nset_matplotlib_defaults(plt)\n\nunit = r'fT/cm'\nscaling = 1e13\n\nplt.figure(figsize=(6, 5))\nplt.tick_params(axis='x', which='both', bottom='off', top='off')\nplt.tick_params(axis='y', which='both', left='off', right='off')\n\nplt.hist(scaling * threshes, 30, color='g', alpha=0.4)\nplt.xlabel('Threshold (%s)' % unit)\nplt.ylabel('Number of sensors')\nplt.xlim((100, 950))\nplt.tight_layout()\nplt.show()"
      ], 
      "outputs": [], 
      "metadata": {
        "collapsed": false
      }
    }
  ], 
  "metadata": {
    "kernelspec": {
      "display_name": "Python 2", 
      "name": "python2", 
      "language": "python"
    }, 
    "language_info": {
      "mimetype": "text/x-python", 
      "nbconvert_exporter": "python", 
      "name": "python", 
      "file_extension": ".py", 
      "version": "2.7.11", 
      "pygments_lexer": "ipython2", 
      "codemirror_mode": {
        "version": 2, 
        "name": "ipython"
      }
    }
  }
}