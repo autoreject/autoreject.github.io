{
  "nbformat_minor": 0, 
  "nbformat": 4, 
  "cells": [
    {
      "execution_count": null, 
      "cell_type": "code", 
      "source": [
        "%matplotlib inline"
      ], 
      "outputs": [], 
      "metadata": {
        "collapsed": false
      }
    }, 
    {
      "source": [
        "\n# Detect bad sensors using RANSAC\n\n\nThis example demonstrates how to use RANSAC [1] from the PREP pipeline to\ndetect bad sensors and repair them. Note that this implementation in\n:mod:`autoreject` [2] is an extension of the original implementation and\nworks for MEG sensors as well.\n\n[1] Bigdely-Shamlo, Nima, et al.\n    \"The PREP pipeline: standardized preprocessing for large-scale EEG\n    analysis.\" Frontiers in neuroinformatics 9 (2015).\n[2] Mainak Jas, Denis Engemann, Yousra Bekhti, Federico Raimondo, and Alexandre Gramfort,\n    \"Autoreject: Automated artifact rejection for MEG and EEG.\" arXiv preprint\n    arXiv:1612.08194, 2016.\n\n"
      ], 
      "cell_type": "markdown", 
      "metadata": {}
    }, 
    {
      "execution_count": null, 
      "cell_type": "code", 
      "source": [
        "# Author: Mainak Jas <mainak.jas@telecom-paristech.fr>\n# License: BSD (3-clause)"
      ], 
      "outputs": [], 
      "metadata": {
        "collapsed": false
      }
    }, 
    {
      "source": [
        "For the purposes of this example, we shall use the MNE sample dataset.\nTherefore, let us make some MNE related imports.\n\n"
      ], 
      "cell_type": "markdown", 
      "metadata": {}
    }, 
    {
      "execution_count": null, 
      "cell_type": "code", 
      "source": [
        "import mne\nfrom mne import io\nfrom mne import Epochs\nfrom mne.datasets import sample"
      ], 
      "outputs": [], 
      "metadata": {
        "collapsed": false
      }
    }, 
    {
      "source": [
        "Let us now read in the raw `fif` file for MNE sample dataset.\n\n"
      ], 
      "cell_type": "markdown", 
      "metadata": {}
    }, 
    {
      "execution_count": null, 
      "cell_type": "code", 
      "source": [
        "data_path = sample.data_path()\nraw_fname = data_path + '/MEG/sample/sample_audvis_filt-0-40_raw.fif'\nraw = io.read_raw_fif(raw_fname, preload=True)"
      ], 
      "outputs": [], 
      "metadata": {
        "collapsed": false
      }
    }, 
    {
      "source": [
        "We can then read in the events\n\n"
      ], 
      "cell_type": "markdown", 
      "metadata": {}
    }, 
    {
      "execution_count": null, 
      "cell_type": "code", 
      "source": [
        "event_fname = data_path + ('/MEG/sample/sample_audvis_filt-0-40_raw-'\n                           'eve.fif')\nevent_id = {'Auditory/Left': 1}\ntmin, tmax = -0.2, 0.5\n\nevents = mne.read_events(event_fname)"
      ], 
      "outputs": [], 
      "metadata": {
        "collapsed": false
      }
    }, 
    {
      "source": [
        "And pick MEG channels for repairing. Currently, :mod:`autoreject` can repair\nonly one channel type at a time.\n\n"
      ], 
      "cell_type": "markdown", 
      "metadata": {}
    }, 
    {
      "execution_count": null, 
      "cell_type": "code", 
      "source": [
        "raw.info['bads'] = []"
      ], 
      "outputs": [], 
      "metadata": {
        "collapsed": false
      }
    }, 
    {
      "source": [
        "Now, we can create epochs. The ``reject`` params will be set to ``None``\nbecause we do not want epochs to be dropped when instantiating\n:class:`mne.Epochs`.\n\n"
      ], 
      "cell_type": "markdown", 
      "metadata": {}
    }, 
    {
      "execution_count": null, 
      "cell_type": "code", 
      "source": [
        "raw.info['projs'] = list()  # remove proj, don't proj while interpolating\nepochs = Epochs(raw, events, event_id, tmin, tmax,\n                baseline=(None, 0), reject=None,\n                verbose=False, detrend=0, preload=True)\npicks = mne.pick_types(epochs.info, meg='grad', eeg=False,\n                       stim=False, eog=False,\n                       include=[], exclude=[])"
      ], 
      "outputs": [], 
      "metadata": {
        "collapsed": false
      }
    }, 
    {
      "source": [
        "We import ``Ransac`` and run the familiar ``fit_transform`` method.\n\n"
      ], 
      "cell_type": "markdown", 
      "metadata": {}
    }, 
    {
      "execution_count": null, 
      "cell_type": "code", 
      "source": [
        "from autoreject import Ransac  # noqa\nfrom autoreject.utils import interpolate_bads  # noqa\n\nransac = Ransac(verbose='progressbar', picks=picks, n_jobs=1)\nepochs_clean = ransac.fit_transform(epochs)"
      ], 
      "outputs": [], 
      "metadata": {
        "collapsed": false
      }
    }, 
    {
      "source": [
        "We can also get the list of bad channels computed by ``Ransac``.\n\n"
      ], 
      "cell_type": "markdown", 
      "metadata": {}
    }, 
    {
      "execution_count": null, 
      "cell_type": "code", 
      "source": [
        "print('\\n'.join(ransac.bad_chs_))"
      ], 
      "outputs": [], 
      "metadata": {
        "collapsed": false
      }
    }, 
    {
      "source": [
        "Then we compute the ``evoked`` before and after interpolation.\n\n"
      ], 
      "cell_type": "markdown", 
      "metadata": {}
    }, 
    {
      "execution_count": null, 
      "cell_type": "code", 
      "source": [
        "evoked = epochs.average()\nevoked_clean = epochs_clean.average()"
      ], 
      "outputs": [], 
      "metadata": {
        "collapsed": false
      }
    }, 
    {
      "source": [
        "We will manually mark the bad channels just for plotting.\n\n"
      ], 
      "cell_type": "markdown", 
      "metadata": {}
    }, 
    {
      "execution_count": null, 
      "cell_type": "code", 
      "source": [
        "evoked.info['bads'] = ['MEG 2443']\nevoked_clean.info['bads'] = ['MEG 2443']"
      ], 
      "outputs": [], 
      "metadata": {
        "collapsed": false
      }
    }, 
    {
      "source": [
        "Let us plot the results.\n\n"
      ], 
      "cell_type": "markdown", 
      "metadata": {}
    }, 
    {
      "execution_count": null, 
      "cell_type": "code", 
      "source": [
        "from autoreject.utils import set_matplotlib_defaults  # noqa\nimport matplotlib.pyplot as plt  # noqa\nset_matplotlib_defaults(plt)\n\nfig, axes = plt.subplots(2, 1, figsize=(6, 6))\n\nfor ax in axes:\n    ax.tick_params(axis='x', which='both', bottom='off', top='off')\n    ax.tick_params(axis='y', which='both', left='off', right='off')\n\nylim = dict(grad=(-170, 200))\nevoked.pick_types(meg='grad', exclude=[])\nevoked.plot(exclude=[], axes=axes[0], ylim=ylim, show=False)\naxes[0].set_title('Before RANSAC')\nevoked_clean.pick_types(meg='grad', exclude=[])\nevoked_clean.plot(exclude=[], axes=axes[1], ylim=ylim)\naxes[1].set_title('After RANSAC')\nfig.tight_layout()"
      ], 
      "outputs": [], 
      "metadata": {
        "collapsed": false
      }
    }, 
    {
      "source": [
        "To top things up, we can also visualize the bad sensors for each trial using\na heatmap.\n\n"
      ], 
      "cell_type": "markdown", 
      "metadata": {}
    }, 
    {
      "execution_count": null, 
      "cell_type": "code", 
      "source": [
        "ch_names = [epochs.ch_names[ii] for ii in ransac.picks][7::10]\nfig, ax = plt.subplots(1, 1, figsize=(12, 6))\nax.imshow(ransac.bad_log, cmap='Reds',\n          interpolation='nearest')\nax.grid(False)\nax.set_xlabel('Sensors')\nax.set_ylabel('Trials')\nplt.setp(ax, xticks=range(7, len(ransac.picks), 10),\n         xticklabels=ch_names)\nplt.setp(ax.get_yticklabels(), rotation=0)\nplt.setp(ax.get_xticklabels(), rotation=90)\nax.tick_params(axis=u'both', which=u'both', length=0)\nfig.tight_layout(rect=[None, None, None, 1.1])\nplt.show()"
      ], 
      "outputs": [], 
      "metadata": {
        "collapsed": false
      }
    }
  ], 
  "metadata": {
    "kernelspec": {
      "display_name": "Python 2", 
      "name": "python2", 
      "language": "python"
    }, 
    "language_info": {
      "mimetype": "text/x-python", 
      "nbconvert_exporter": "python", 
      "name": "python", 
      "file_extension": ".py", 
      "version": "2.7.13", 
      "pygments_lexer": "ipython2", 
      "codemirror_mode": {
        "version": 2, 
        "name": "ipython"
      }
    }
  }
}