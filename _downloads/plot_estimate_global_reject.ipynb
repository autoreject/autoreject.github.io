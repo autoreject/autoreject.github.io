{
  "nbformat_minor": 0, 
  "nbformat": 4, 
  "cells": [
    {
      "execution_count": null, 
      "cell_type": "code", 
      "source": [
        "%matplotlib inline"
      ], 
      "outputs": [], 
      "metadata": {
        "collapsed": false
      }
    }, 
    {
      "source": [
        "\n# Find global rejection threshold\n\n\nThis example demonstrates how to use :mod:`autoreject` to\nfind global rejection thresholds.\n\n"
      ], 
      "cell_type": "markdown", 
      "metadata": {}
    }, 
    {
      "execution_count": null, 
      "cell_type": "code", 
      "source": [
        "# Author: Mainak Jas <mainak.jas@telecom-paristech.fr>\n# License: BSD (3-clause)"
      ], 
      "outputs": [], 
      "metadata": {
        "collapsed": false
      }
    }, 
    {
      "source": [
        "Let us import the data using MNE-Python and epoch it.\n\n"
      ], 
      "cell_type": "markdown", 
      "metadata": {}
    }, 
    {
      "execution_count": null, 
      "cell_type": "code", 
      "source": [
        "import mne\nfrom mne import io\nfrom mne.datasets import sample\n\nevent_id = {'Visual/Left': 3}\ntmin, tmax = -0.2, 0.5\n\ndata_path = sample.data_path()\nraw_fname = data_path + '/MEG/sample/sample_audvis_filt-0-40_raw.fif'\nevent_fname = data_path + ('/MEG/sample/sample_audvis_filt-0-40_raw-'\n                           'eve.fif')\n\nraw = io.read_raw_fif(raw_fname, preload=True)\nevents = mne.read_events(event_fname)\n\ninclude = []\npicks = mne.pick_types(raw.info, meg=True, eeg=True, stim=False,\n                       eog=True, include=include, exclude='bads')\nepochs = mne.Epochs(raw, events, event_id, tmin, tmax,\n                    picks=picks, baseline=(None, 0), preload=True,\n                    reject=None, verbose=False, detrend=1)"
      ], 
      "outputs": [], 
      "metadata": {
        "collapsed": false
      }
    }, 
    {
      "source": [
        "Now we get the rejection dictionary\n\n"
      ], 
      "cell_type": "markdown", 
      "metadata": {}
    }, 
    {
      "execution_count": null, 
      "cell_type": "code", 
      "source": [
        "from autoreject import get_rejection_threshold  # noqa\nreject = get_rejection_threshold(epochs, decim=1)"
      ], 
      "outputs": [], 
      "metadata": {
        "collapsed": false
      }
    }, 
    {
      "source": [
        "and print it\n\n"
      ], 
      "cell_type": "markdown", 
      "metadata": {}
    }, 
    {
      "execution_count": null, 
      "cell_type": "code", 
      "source": [
        "print('The rejection dictionary is %s' % reject)"
      ], 
      "outputs": [], 
      "metadata": {
        "collapsed": false
      }
    }, 
    {
      "source": [
        "Finally, the cleaned epochs\n\n"
      ], 
      "cell_type": "markdown", 
      "metadata": {}
    }, 
    {
      "execution_count": null, 
      "cell_type": "code", 
      "source": [
        "epochs.drop_bad(reject=reject)\nepochs.average().plot()"
      ], 
      "outputs": [], 
      "metadata": {
        "collapsed": false
      }
    }
  ], 
  "metadata": {
    "kernelspec": {
      "display_name": "Python 2", 
      "name": "python2", 
      "language": "python"
    }, 
    "language_info": {
      "mimetype": "text/x-python", 
      "nbconvert_exporter": "python", 
      "name": "python", 
      "file_extension": ".py", 
      "version": "2.7.13", 
      "pygments_lexer": "ipython2", 
      "codemirror_mode": {
        "version": 2, 
        "name": "ipython"
      }
    }
  }
}