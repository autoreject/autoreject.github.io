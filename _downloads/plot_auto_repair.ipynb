{
  "nbformat_minor": 0, 
  "nbformat": 4, 
  "cells": [
    {
      "execution_count": null, 
      "cell_type": "code", 
      "source": [
        "%matplotlib inline"
      ], 
      "outputs": [], 
      "metadata": {
        "collapsed": false
      }
    }, 
    {
      "source": [
        "\n# Automatically repair epochs\n\n\nThis example demonstrates how to use :mod:`autoreject` to automatically\nrepair epochs.\n"
      ], 
      "cell_type": "markdown", 
      "metadata": {}
    }, 
    {
      "execution_count": null, 
      "cell_type": "code", 
      "source": [
        "# Author: Mainak Jas <mainak.jas@telecom-paristech.fr>\n# License: BSD (3-clause)"
      ], 
      "outputs": [], 
      "metadata": {
        "collapsed": false
      }
    }, 
    {
      "source": [
        "Let us first define the parameters. `n_interpolates` are the $\\rho$\nvalues that we would like :mod:`autoreject` to try and `consensus_percs`\nare the $\\kappa` values that :mod:`autoreject$ will try.\n\nEpochs with more than $\\kappa * N` sensors (:math:`N$ total sensors)\nbad are dropped. For the rest of the epochs, the worst $\\rho$ sensors\nare interpolated. The exact values of these parameters are not preselected\nbut learned from the data.\n"
      ], 
      "cell_type": "markdown", 
      "metadata": {}
    }, 
    {
      "execution_count": null, 
      "cell_type": "code", 
      "source": [
        "import numpy as np\n\nn_interpolates = np.array([1, 4, 32])\nconsensus_percs = np.linspace(0, 1.0, 11)"
      ], 
      "outputs": [], 
      "metadata": {
        "collapsed": false
      }
    }, 
    {
      "source": [
        "For the purposes of this example, we shall use the MNE sample dataset.\nTherefore, let us make some MNE related imports.\n"
      ], 
      "cell_type": "markdown", 
      "metadata": {}
    }, 
    {
      "execution_count": null, 
      "cell_type": "code", 
      "source": [
        "import mne\nfrom mne import io\nfrom mne import Epochs\nfrom mne.utils import check_random_state\nfrom mne.datasets import sample"
      ], 
      "outputs": [], 
      "metadata": {
        "collapsed": false
      }
    }, 
    {
      "source": [
        "Now, we can import the class required for rejecting and repairing bad\nepochs. :func:`autoreject.compute_threshes` is a callable which must be\nprovided to the :class:`autoreject.LocalAutoRejectCV` class for computing\nthe channel-level thresholds.\n"
      ], 
      "cell_type": "markdown", 
      "metadata": {}
    }, 
    {
      "execution_count": null, 
      "cell_type": "code", 
      "source": [
        "from autoreject import (LocalAutoRejectCV, compute_threshes,\n                        set_matplotlib_defaults)"
      ], 
      "outputs": [], 
      "metadata": {
        "collapsed": false
      }
    }, 
    {
      "source": [
        "Let us now read in the raw `fif` file for MNE sample dataset.\n"
      ], 
      "cell_type": "markdown", 
      "metadata": {}
    }, 
    {
      "execution_count": null, 
      "cell_type": "code", 
      "source": [
        "check_random_state(42)\n\ndata_path = sample.data_path()\nraw_fname = data_path + '/MEG/sample/sample_audvis_filt-0-40_raw.fif'\nraw = io.Raw(raw_fname, preload=True)"
      ], 
      "outputs": [], 
      "metadata": {
        "collapsed": false
      }
    }, 
    {
      "source": [
        "We will remove the ECG artifacts from our signal using SSP projectors.\n"
      ], 
      "cell_type": "markdown", 
      "metadata": {}
    }, 
    {
      "execution_count": null, 
      "cell_type": "code", 
      "source": [
        "projs, _ = mne.preprocessing.compute_proj_ecg(raw, n_eeg=1, average=True,\n                                              verbose=False)\nraw.add_proj(projs).apply_proj()"
      ], 
      "outputs": [], 
      "metadata": {
        "collapsed": false
      }
    }, 
    {
      "source": [
        "We can then read in the events\n"
      ], 
      "cell_type": "markdown", 
      "metadata": {}
    }, 
    {
      "execution_count": null, 
      "cell_type": "code", 
      "source": [
        "event_fname = data_path + ('/MEG/sample/sample_audvis_filt-0-40_raw-'\n                           'eve.fif')\nevent_id = {'Auditory/Left': 1}\ntmin, tmax = -0.2, 0.5\n\nevents = mne.read_events(event_fname)"
      ], 
      "outputs": [], 
      "metadata": {
        "collapsed": false
      }
    }, 
    {
      "source": [
        "And pick MEG channels for repairing. Currently, :mod:`autoreject` can repair\nonly one channel type at a time.\n"
      ], 
      "cell_type": "markdown", 
      "metadata": {}
    }, 
    {
      "execution_count": null, 
      "cell_type": "code", 
      "source": [
        "raw.info['bads'] = []\npicks = mne.pick_types(raw.info, meg=True, eeg=False, stim=False, eog=False,\n                       include=[], exclude=[])"
      ], 
      "outputs": [], 
      "metadata": {
        "collapsed": false
      }
    }, 
    {
      "source": [
        "Now, we can create epochs. The reject params will be set to ``None`` because\nwe do not want MNE-Python to drop any epochs.\n"
      ], 
      "cell_type": "markdown", 
      "metadata": {}
    }, 
    {
      "execution_count": null, 
      "cell_type": "code", 
      "source": [
        "epochs = Epochs(raw, events, event_id, tmin, tmax,\n                picks=picks, baseline=(None, 0), reject=None,\n                verbose=False, detrend=0, preload=True)"
      ], 
      "outputs": [], 
      "metadata": {
        "collapsed": false
      }
    }, 
    {
      "source": [
        ":class:`autoreject.LocalAutoRejectCV` internally does cross-validation to\ndetermine the optimal values $\\rho^{*}` and :math:`\\kappa^{*}$\n"
      ], 
      "cell_type": "markdown", 
      "metadata": {}
    }, 
    {
      "execution_count": null, 
      "cell_type": "code", 
      "source": [
        "ar = LocalAutoRejectCV(n_interpolates, consensus_percs, compute_threshes)\nepochs_clean = ar.fit_transform(epochs)\n\nevoked = epochs.average()\nevoked_clean = epochs_clean.average()"
      ], 
      "outputs": [], 
      "metadata": {
        "collapsed": false
      }
    }, 
    {
      "source": [
        "Now, we will manually mark the bad channels just for plotting.\n"
      ], 
      "cell_type": "markdown", 
      "metadata": {}
    }, 
    {
      "execution_count": null, 
      "cell_type": "code", 
      "source": [
        "evoked.info['bads'] = ['MEG 2443']\nevoked_clean.info['bads'] = ['MEG 2443']"
      ], 
      "outputs": [], 
      "metadata": {
        "collapsed": false
      }
    }, 
    {
      "source": [
        "Let us plot the results.\n"
      ], 
      "cell_type": "markdown", 
      "metadata": {}
    }, 
    {
      "execution_count": null, 
      "cell_type": "code", 
      "source": [
        "import matplotlib.pyplot as plt\nset_matplotlib_defaults(plt)\n\nfig, axes = plt.subplots(2, 1, figsize=(6, 6))\n\nfor ax in axes:\n    ax.tick_params(axis='x', which='both', bottom='off', top='off')\n    ax.tick_params(axis='y', which='both', left='off', right='off')\n\nylim = dict(grad=(-170, 200))\nevoked1 = evoked.copy().pick_types(meg='grad', exclude=[])\nevoked1.plot(exclude=[], axes=axes[0], ylim=ylim, show=False)\naxes[0].set_title('Before')\nevoked2 = evoked_clean.copy().pick_types(meg='grad', exclude=[])\nevoked2.plot(exclude=[], axes=axes[1], ylim=ylim)\naxes[1].set_title('After')\nplt.tight_layout()"
      ], 
      "outputs": [], 
      "metadata": {
        "collapsed": false
      }
    }, 
    {
      "source": [
        "To top things up, we can also visualize the bad sensors for each trial using\n:func:`seaborn.heatmap`.\n"
      ], 
      "cell_type": "markdown", 
      "metadata": {}
    }, 
    {
      "execution_count": null, 
      "cell_type": "code", 
      "source": [
        "import seaborn as sns\nset_matplotlib_defaults(plt)\n\nplt.figure(figsize=(18, 6))\nax = sns.heatmap(ar.bad_segments, xticklabels=10, yticklabels=20, square=True,\n                 cbar=False, cmap='Reds')\nax.set_xlabel('Sensors')\nax.set_ylabel('Trials')\n\nplt.setp(ax.get_yticklabels(), rotation=0)\nplt.setp(ax.get_xticklabels(), rotation=90)\nplt.tight_layout(rect=[None, None, None, 1.1])"
      ], 
      "outputs": [], 
      "metadata": {
        "collapsed": false
      }
    }
  ], 
  "metadata": {
    "kernelspec": {
      "display_name": "Python 2", 
      "name": "python2", 
      "language": "python"
    }, 
    "language_info": {
      "mimetype": "text/x-python", 
      "nbconvert_exporter": "python", 
      "name": "python", 
      "file_extension": ".py", 
      "version": "2.7.11", 
      "pygments_lexer": "ipython2", 
      "codemirror_mode": {
        "version": 2, 
        "name": "ipython"
      }
    }
  }
}