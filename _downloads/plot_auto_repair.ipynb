{
  "nbformat_minor": 0, 
  "nbformat": 4, 
  "cells": [
    {
      "execution_count": null, 
      "cell_type": "code", 
      "source": [
        "%matplotlib inline"
      ], 
      "outputs": [], 
      "metadata": {
        "collapsed": false
      }
    }, 
    {
      "source": [
        "\n# Automatically repair epochs\n\n\nThis example demonstrates how to use :mod:`autoreject` to automatically\nrepair epochs.\n\n"
      ], 
      "cell_type": "markdown", 
      "metadata": {}
    }, 
    {
      "execution_count": null, 
      "cell_type": "code", 
      "source": [
        "# Author: Mainak Jas <mainak.jas@telecom-paristech.fr>\n#         Denis A. Engemann <denis.engemann@gmail.com>\n# License: BSD (3-clause)"
      ], 
      "outputs": [], 
      "metadata": {
        "collapsed": false
      }
    }, 
    {
      "source": [
        "Let us first define the parameters. `n_interpolates` are the $\\rho$\nvalues that we would like :mod:`autoreject` to try and `consensus_percs`\nare the $\\kappa$ values that :mod:`autoreject` will try.\n\nEpochs with more than $\\kappa * N$ sensors ($N$ total sensors)\nbad are dropped. For the rest of the epochs, the worst $\\rho$\nbad sensors (as determined by channel-level thresholds) are interpolated.\nThe exact values of these parameters are not preselected but learned from\nthe data. If the number of bad sensors for a particular trial is less than\n$\\rho$, all the bad sensors are interpolated.\n\n"
      ], 
      "cell_type": "markdown", 
      "metadata": {}
    }, 
    {
      "execution_count": null, 
      "cell_type": "code", 
      "source": [
        "import numpy as np\n\nn_interpolates = np.array([1, 4, 32])\nconsensus_percs = np.linspace(0, 1.0, 11)"
      ], 
      "outputs": [], 
      "metadata": {
        "collapsed": false
      }
    }, 
    {
      "source": [
        "For the purposes of this example, we shall use the MNE sample dataset.\nTherefore, let us make some MNE related imports.\n\n"
      ], 
      "cell_type": "markdown", 
      "metadata": {}
    }, 
    {
      "execution_count": null, 
      "cell_type": "code", 
      "source": [
        "import mne  # noqa\nfrom mne.utils import check_random_state  # noqa\nfrom mne.datasets import sample  # noqa"
      ], 
      "outputs": [], 
      "metadata": {
        "collapsed": false
      }
    }, 
    {
      "source": [
        "Now, we can import the class required for rejecting and repairing bad\nepochs. :func:`autoreject.compute_thresholds` is a callable which must be\nprovided to the :class:`autoreject.AutoReject` class for computing\nthe channel-level thresholds.\n\n"
      ], 
      "cell_type": "markdown", 
      "metadata": {}
    }, 
    {
      "execution_count": null, 
      "cell_type": "code", 
      "source": [
        "from autoreject import (AutoReject, compute_thresholds,\n                        set_matplotlib_defaults)  # noqa"
      ], 
      "outputs": [], 
      "metadata": {
        "collapsed": false
      }
    }, 
    {
      "source": [
        "Let us now read in the raw `fif` file for MNE sample dataset.\n\n"
      ], 
      "cell_type": "markdown", 
      "metadata": {}
    }, 
    {
      "execution_count": null, 
      "cell_type": "code", 
      "source": [
        "check_random_state(42)\n\ndata_path = sample.data_path()\nraw_fname = data_path + '/MEG/sample/sample_audvis_filt-0-40_raw.fif'\nraw = mne.io.read_raw_fif(raw_fname, preload=True)"
      ], 
      "outputs": [], 
      "metadata": {
        "collapsed": false
      }
    }, 
    {
      "source": [
        "We can then read in the events\n\n"
      ], 
      "cell_type": "markdown", 
      "metadata": {}
    }, 
    {
      "execution_count": null, 
      "cell_type": "code", 
      "source": [
        "event_fname = data_path + ('/MEG/sample/sample_audvis_filt-0-40_raw-'\n                           'eve.fif')\nevent_id = {'Auditory/Left': 1, 'Auditory/Right': 2}\ntmin, tmax = -0.2, 0.5\n\nevents = mne.read_events(event_fname)"
      ], 
      "outputs": [], 
      "metadata": {
        "collapsed": false
      }
    }, 
    {
      "source": [
        "And pick MEG channels for repairing. Currently, :mod:`autoreject` can repair\nonly one channel type at a time.\n\n"
      ], 
      "cell_type": "markdown", 
      "metadata": {}
    }, 
    {
      "execution_count": null, 
      "cell_type": "code", 
      "source": [
        "raw.info['bads'] = []\npicks = mne.pick_types(raw.info, meg='grad', eeg=False, stim=False, eog=False,\n                       include=[], exclude=[])"
      ], 
      "outputs": [], 
      "metadata": {
        "collapsed": false
      }
    }, 
    {
      "source": [
        "Now, we can create epochs. The ``reject`` params will be set to ``None``\nbecause we do not want epochs to be dropped when instantiating\n:class:`mne.Epochs`.\n\n"
      ], 
      "cell_type": "markdown", 
      "metadata": {}
    }, 
    {
      "execution_count": null, 
      "cell_type": "code", 
      "source": [
        "raw.info['projs'] = list()  # remove proj, don't proj while interpolating\nepochs = mne.Epochs(raw, events, event_id, tmin, tmax,\n                    baseline=(None, 0), reject=None,\n                    verbose=False, detrend=0, preload=True)"
      ], 
      "outputs": [], 
      "metadata": {
        "collapsed": false
      }
    }, 
    {
      "source": [
        "First, we set up the function to compute the sensor-level thresholds.\n\n"
      ], 
      "cell_type": "markdown", 
      "metadata": {}
    }, 
    {
      "execution_count": null, 
      "cell_type": "code", 
      "source": [
        "from functools import partial  # noqa\nthresh_func = partial(compute_thresholds, picks=picks, method='random_search',\n                      random_state=42)"
      ], 
      "outputs": [], 
      "metadata": {
        "collapsed": false
      }
    }, 
    {
      "source": [
        ":class:`autoreject.AutoReject` internally does cross-validation to\ndetermine the optimal values $\\rho^{*}$ and $\\kappa^{*}$\n\n"
      ], 
      "cell_type": "markdown", 
      "metadata": {}
    }, 
    {
      "source": [
        "Note that:class:`autoreject.AutoReject` by design supports\nmultiple channels.\nIf no picks are passed separate solutions will be computed for each channel\ntype and internally combines. This then readily supports cleaning\nunseen epochs from the different channel types used during fit.\nHere we only use a subset of channels to save time.\n\n"
      ], 
      "cell_type": "markdown", 
      "metadata": {}
    }, 
    {
      "execution_count": null, 
      "cell_type": "code", 
      "source": [
        "ar = AutoReject(n_interpolates, consensus_percs, picks=picks,\n                thresh_func=thresh_func)\n\n# Not that fitting and transforming can be done on different compatible\n# portions of data if needed.\nar.fit(epochs['Auditory/Left'])\nepochs_clean = ar.transform(epochs['Auditory/Left'])\nevoked_clean = epochs_clean.average()\nevoked = epochs['Auditory/Left'].average()"
      ], 
      "outputs": [], 
      "metadata": {
        "collapsed": false
      }
    }, 
    {
      "source": [
        "Now, we will manually mark the bad channels just for plotting.\n\n"
      ], 
      "cell_type": "markdown", 
      "metadata": {}
    }, 
    {
      "execution_count": null, 
      "cell_type": "code", 
      "source": [
        "evoked.info['bads'] = ['MEG 2443']\nevoked_clean.info['bads'] = ['MEG 2443']"
      ], 
      "outputs": [], 
      "metadata": {
        "collapsed": false
      }
    }, 
    {
      "source": [
        "Let us plot the results.\n\n"
      ], 
      "cell_type": "markdown", 
      "metadata": {}
    }, 
    {
      "execution_count": null, 
      "cell_type": "code", 
      "source": [
        "import matplotlib.pyplot as plt  # noqa\nset_matplotlib_defaults(plt)\n\nfig, axes = plt.subplots(2, 1, figsize=(6, 6))\n\nfor ax in axes:\n    ax.tick_params(axis='x', which='both', bottom='off', top='off')\n    ax.tick_params(axis='y', which='both', left='off', right='off')\n\nylim = dict(grad=(-170, 200))\nevoked.pick_types(meg='grad', exclude=[])\nevoked.plot(exclude=[], axes=axes[0], ylim=ylim, show=False)\naxes[0].set_title('Before autoreject')\nevoked_clean.pick_types(meg='grad', exclude=[])\nevoked_clean.plot(exclude=[], axes=axes[1], ylim=ylim)\naxes[1].set_title('After autoreject')\nplt.tight_layout()"
      ], 
      "outputs": [], 
      "metadata": {
        "collapsed": false
      }
    }, 
    {
      "source": [
        "To top things up, we can also visualize the bad sensors for each trial using\na heatmap.\n\n"
      ], 
      "cell_type": "markdown", 
      "metadata": {}
    }, 
    {
      "execution_count": null, 
      "cell_type": "code", 
      "source": [
        "ar.get_reject_log(epochs['Auditory/Left']).plot()"
      ], 
      "outputs": [], 
      "metadata": {
        "collapsed": false
      }
    }
  ], 
  "metadata": {
    "kernelspec": {
      "display_name": "Python 2", 
      "name": "python2", 
      "language": "python"
    }, 
    "language_info": {
      "mimetype": "text/x-python", 
      "nbconvert_exporter": "python", 
      "name": "python", 
      "file_extension": ".py", 
      "version": "2.7.13", 
      "pygments_lexer": "ipython2", 
      "codemirror_mode": {
        "version": 2, 
        "name": "ipython"
      }
    }
  }
}