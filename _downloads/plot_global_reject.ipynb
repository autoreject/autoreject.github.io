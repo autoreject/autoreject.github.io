{
  "nbformat_minor": 0, 
  "nbformat": 4, 
  "cells": [
    {
      "execution_count": null, 
      "cell_type": "code", 
      "source": [
        "%matplotlib inline"
      ], 
      "outputs": [], 
      "metadata": {
        "collapsed": false
      }
    }, 
    {
      "source": [
        "\n# Plotting the cross-validation curve\n\n\nThis example demonstrates how to use :mod:`autoreject` to\nplot the cross-validation curve that is used to estimate the\nglobal rejection thresholds.\n\n"
      ], 
      "cell_type": "markdown", 
      "metadata": {}
    }, 
    {
      "execution_count": null, 
      "cell_type": "code", 
      "source": [
        "# Author: Mainak Jas <mainak.jas@telecom-paristech.fr>\n# License: BSD (3-clause)"
      ], 
      "outputs": [], 
      "metadata": {
        "collapsed": false
      }
    }, 
    {
      "source": [
        "Let us import the data using MNE-Python and epoch it.\n\n"
      ], 
      "cell_type": "markdown", 
      "metadata": {}
    }, 
    {
      "execution_count": null, 
      "cell_type": "code", 
      "source": [
        "import mne\nfrom mne import io\nfrom mne.datasets import sample\n\nevent_id = {'Visual/Left': 3}\ntmin, tmax = -0.2, 0.5\n\ndata_path = sample.data_path()\nraw_fname = data_path + '/MEG/sample/sample_audvis_filt-0-40_raw.fif'\nevent_fname = data_path + ('/MEG/sample/sample_audvis_filt-0-40_raw-'\n                           'eve.fif')\n\nraw = io.read_raw_fif(raw_fname, preload=True)\nevents = mne.read_events(event_fname)\n\ninclude = []\npicks = mne.pick_types(raw.info, meg=False, eeg=True, stim=False,\n                       eog=False, include=include, exclude='bads')\nepochs = mne.Epochs(raw, events, event_id, tmin, tmax,\n                    picks=picks, baseline=(None, 0),\n                    reject=None, verbose=False, detrend=1)"
      ], 
      "outputs": [], 
      "metadata": {
        "collapsed": false
      }
    }, 
    {
      "source": [
        "Let us define a range of candidate thresholds which we would like to try.\nIn this particular case, we try from $40{\\mu}V$ to $200{\\mu}V$\n\n"
      ], 
      "cell_type": "markdown", 
      "metadata": {}
    }, 
    {
      "execution_count": null, 
      "cell_type": "code", 
      "source": [
        "import numpy as np  # noqa\nparam_range = np.linspace(40e-6, 200e-6, 30)"
      ], 
      "outputs": [], 
      "metadata": {
        "collapsed": false
      }
    }, 
    {
      "source": [
        "Next, we can use :class:`autoreject.GlobalAutoReject` to find global\n(i.e., for all channels) peak-to-peak thresholds. It is a class which\nfollows a :mod:`scikit-learn`-like API. To compute the Root Mean Squared\n(RMSE) values at the candidate thresholds, we will use the function\n:func:`autoreject.validation_curve`.\n\n"
      ], 
      "cell_type": "markdown", 
      "metadata": {}
    }, 
    {
      "execution_count": null, 
      "cell_type": "code", 
      "source": [
        "from autoreject import GlobalAutoReject, validation_curve  # noqa\n\n_, test_scores = validation_curve(\n    GlobalAutoReject(), epochs, y=None,\n    param_name=\"thresh\", param_range=param_range, cv=5)\n\ntest_scores = -test_scores.mean(axis=1)\nbest_thresh = param_range[np.argmin(test_scores)]"
      ], 
      "outputs": [], 
      "metadata": {
        "collapsed": false
      }
    }, 
    {
      "source": [
        "Now let us plot the RMSE values against the candidate thresholds.\n\n"
      ], 
      "cell_type": "markdown", 
      "metadata": {}
    }, 
    {
      "execution_count": null, 
      "cell_type": "code", 
      "source": [
        "import matplotlib.pyplot as plt  # noqa\nfrom autoreject import set_matplotlib_defaults  # noqa\nset_matplotlib_defaults(plt)\n\nhuman_thresh = 80e-6\nunit = r'$\\mu$V'\nscaling = 1e6\n\nplt.figure(figsize=(8, 5))\nplt.tick_params(axis='x', which='both', bottom='off', top='off')\nplt.tick_params(axis='y', which='both', left='off', right='off')\n\ncolors = plt.rcParams['axes.color_cycle']\n\nplt.plot(scaling * param_range, scaling * test_scores,\n         'o-', markerfacecolor='w',\n         color=colors[0], markeredgewidth=2, linewidth=2,\n         markeredgecolor=colors[0], markersize=8, label='CV scores')\nplt.ylabel('RMSE (%s)' % unit)\nplt.xlabel('Threshold (%s)' % unit)\nplt.xlim((scaling * param_range[0] - 10, scaling * param_range[-1] + 10))\nplt.axvline(scaling * best_thresh, label='auto global', color=colors[2],\n            linewidth=2, linestyle='--')\nplt.axvline(scaling * human_thresh, label='manual', color=colors[1],\n            linewidth=2, linestyle=':')\nplt.legend(loc='upper right')\nplt.tight_layout()\nplt.show()"
      ], 
      "outputs": [], 
      "metadata": {
        "collapsed": false
      }
    }
  ], 
  "metadata": {
    "kernelspec": {
      "display_name": "Python 2", 
      "name": "python2", 
      "language": "python"
    }, 
    "language_info": {
      "mimetype": "text/x-python", 
      "nbconvert_exporter": "python", 
      "name": "python", 
      "file_extension": ".py", 
      "version": "2.7.13", 
      "pygments_lexer": "ipython2", 
      "codemirror_mode": {
        "version": 2, 
        "name": "ipython"
      }
    }
  }
}